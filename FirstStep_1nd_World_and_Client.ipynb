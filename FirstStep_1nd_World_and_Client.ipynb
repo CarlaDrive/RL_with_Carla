{
 "cells": [
  {
   "cell_type": "markdown",
   "metadata": {},
   "source": [
    "## 1st. World and Client\n",
    " : defining the basics and creation of these elements,\n",
    " : to describing their possibilities."
   ]
  },
  {
   "cell_type": "markdown",
   "metadata": {},
   "source": [
    "# The Client\n",
    " : connect to the server\n",
    " : retrieve information\n",
    " : and command changes\n",
    " via scripts\n",
    " : connects to the world to\n",
    " : then operate with the simulation"
   ]
  },
  {
   "cell_type": "code",
   "execution_count": 2,
   "metadata": {},
   "outputs": [
    {
     "name": "stdout",
     "output_type": "stream",
     "text": [
      "3.7.4 (default, Dec  8 2020, 11:37:07) \n",
      "[GCC 7.5.0]\n"
     ]
    }
   ],
   "source": [
    "import sys\n",
    "print(sys.version)\n",
    "import carla"
   ]
  },
  {
   "cell_type": "code",
   "execution_count": 3,
   "metadata": {},
   "outputs": [],
   "source": [
    "# Use 'localhost' IP / port 2000\n",
    "# the 2nd port will always be n+1 (2001)\n",
    "client = carla.Client('localhost',2000)\n",
    "client.set_timeout(10.0) # seconds"
   ]
  },
  {
   "cell_type": "code",
   "execution_count": 12,
   "metadata": {},
   "outputs": [
    {
     "name": "stdout",
     "output_type": "stream",
     "text": [
      "client ver :  0.9.10\n",
      "server ver :  0.9.10\n"
     ]
    }
   ],
   "source": [
    "# Check Client and Server version\n",
    "print('client ver : ',client.get_client_version())\n",
    "print('server ver : ',client.get_server_version())"
   ]
  },
  {
   "cell_type": "markdown",
   "metadata": {},
   "source": [
    " World connection\n",
    " : connect and retrieve the current world\n",
    " : Every world object has an 'id' or episode.\n",
    " : Everytime the client calls for 'load_world()' or 'reload_world()'"
   ]
  },
  {
   "cell_type": "code",
   "execution_count": 13,
   "metadata": {},
   "outputs": [
    {
     "name": "stdout",
     "output_type": "stream",
     "text": [
      "Show available maps :  ['/Game/Carla/Maps/Town05', '/Game/Carla/Maps/Town03', '/Game/Carla/Maps/Town02', '/Game/Carla/Maps/Town01', '/Game/Carla/Maps/Town04']\n"
     ]
    }
   ],
   "source": [
    "world = client.get_world()\n",
    "print('Show available maps : ',client.get_available_maps())\n",
    "world = client.load_world('Town01')"
   ]
  },
  {
   "cell_type": "markdown",
   "metadata": {},
   "source": [
    "# The World\n",
    " : It does not contain the model of the world itself,\n",
    " :  that is part of the Map class\n",
    " : Most of the information, and general settings\n",
    " :  can be accessed from this class\n",
    "## Actors\n",
    "-> Go to (2nd Actors and blueprints)\n",
    "## Weather\n",
    " : Is it not a class on its own,\n",
    " :  but a set of parameters accessible from the world\n",
    " : The parameterization includes\n",
    " :  sun orientation, cloudiness, wind, fog, and much more\n",
    " : The helper class 'carla.WeatherParameters\n",
    " :  is used to define a custom weather\n",
    " \n",
    "****************  Note  **************\n",
    " Changes in the weather do not affect physics. They are only visuals that can be captured by the camera sensors. "
   ]
  },
  {
   "cell_type": "code",
   "execution_count": 14,
   "metadata": {},
   "outputs": [
    {
     "name": "stdout",
     "output_type": "stream",
     "text": [
      "WeatherParameters(cloudiness=80.000000, cloudiness=80.000000, precipitation=30.000000, precipitation_deposits=0.000000, wind_intensity=0.000000, sun_azimuth_angle=0.000000, sun_altitude_angle=70.000000, fog_density=0.000000, fog_distance=0.000000, fog_falloff=0.000000, wetness=0.000000)\n"
     ]
    }
   ],
   "source": [
    "weather = carla.WeatherParameters(\n",
    "    cloudiness=80.0,\n",
    "    precipitation=30.0,\n",
    "    sun_altitude_angle=70.0)\n",
    "\n",
    "world.set_weather(weather)\n",
    "# world.set_weather(carla.WeatherParameters.WetCloudySunset)\n",
    "#  enum carla.WeatherParameters.WetCloudySunset\n",
    "\n",
    "print(world.get_weather())\n",
    "\n",
    "# environment.py in PythonAPI/util\n",
    "# : Provides access to weather and light parameters\n",
    "# :  so that these can be changed in real time. \n",
    "# dynamic_weather.py in PythonAPI/examples\n",
    "# : Enables a particular weather cycle\n",
    "# :  prepared by developers for each CARLA map. "
   ]
  },
  {
   "cell_type": "markdown",
   "metadata": {},
   "source": [
    "## Lights\n",
    "**Street lights\n"
   ]
  },
  {
   "cell_type": "code",
   "execution_count": 33,
   "metadata": {},
   "outputs": [],
   "source": [
    "# Get the light manager and lights\n",
    "lmanager = world.get_lightmanager()\n",
    "mylights = lmanager.get_all_lights()\n",
    "\n",
    "# # Custom a specific light\n",
    "red = carla.Color(255,255,0)\n",
    "light01 = mylights[0]\n",
    "light01.turn_on()\n",
    "light01.set_intensity(100.0)\n",
    "state01 = carla.LightState(200.0,red,carla.LightGroup.Building,True)\n",
    "light01.set_light_state(state01)\n",
    "\n",
    "# # Custom a group of lights\n",
    "my_lights = lmanager.get_all_lights(carla.LightGroup.Building)\n",
    "lmanager.turn_on(my_lights)\n",
    "lmanager.set_color(my_lights,carla.Color(255,0,0))\n",
    "lmanager.set_intensities(my_lights,list_of_intensities)"
   ]
  },
  {
   "cell_type": "code",
   "execution_count": 35,
   "metadata": {},
   "outputs": [
    {
     "ename": "NameError",
     "evalue": "name 'vehicle' is not defined",
     "output_type": "error",
     "traceback": [
      "\u001b[0;31m---------------------------------------------------------------------------\u001b[0m",
      "\u001b[0;31mNameError\u001b[0m                                 Traceback (most recent call last)",
      "\u001b[0;32m<ipython-input-35-00811c7ef35c>\u001b[0m in \u001b[0;36m<module>\u001b[0;34m\u001b[0m\n\u001b[1;32m      2\u001b[0m \u001b[0mcurrent_lights\u001b[0m \u001b[0;34m=\u001b[0m \u001b[0mcarla\u001b[0m\u001b[0;34m.\u001b[0m\u001b[0mVehicleLightState\u001b[0m\u001b[0;34m.\u001b[0m\u001b[0mNONE\u001b[0m\u001b[0;34m\u001b[0m\u001b[0;34m\u001b[0m\u001b[0m\n\u001b[1;32m      3\u001b[0m \u001b[0mcurrent_lights\u001b[0m \u001b[0;34m|=\u001b[0m \u001b[0mcarla\u001b[0m\u001b[0;34m.\u001b[0m\u001b[0mVehicleLightState\u001b[0m\u001b[0;34m.\u001b[0m\u001b[0mPosition\u001b[0m\u001b[0;34m\u001b[0m\u001b[0;34m\u001b[0m\u001b[0m\n\u001b[0;32m----> 4\u001b[0;31m \u001b[0mvehicle\u001b[0m\u001b[0;34m.\u001b[0m\u001b[0mset_light_state\u001b[0m\u001b[0;34m(\u001b[0m\u001b[0mcurrent_lights\u001b[0m\u001b[0;34m)\u001b[0m\u001b[0;34m\u001b[0m\u001b[0;34m\u001b[0m\u001b[0m\n\u001b[0m",
      "\u001b[0;31mNameError\u001b[0m: name 'vehicle' is not defined"
     ]
    }
   ],
   "source": [
    "# Turn on position lights\n",
    "current_lights = carla.VehicleLightState.NONE\n",
    "current_lights |= carla.VehicleLightState.Position\n",
    "vehicle.set_light_state(current_lights)\n",
    "# -> where is vehicle?"
   ]
  },
  {
   "cell_type": "code",
   "execution_count": null,
   "metadata": {},
   "outputs": [],
   "source": []
  }
 ],
 "metadata": {
  "kernelspec": {
   "display_name": "Python 3",
   "language": "python",
   "name": "python3"
  },
  "language_info": {
   "codemirror_mode": {
    "name": "ipython",
    "version": 3
   },
   "file_extension": ".py",
   "mimetype": "text/x-python",
   "name": "python",
   "nbconvert_exporter": "python",
   "pygments_lexer": "ipython3",
   "version": "3.7.4"
  }
 },
 "nbformat": 4,
 "nbformat_minor": 4
}
