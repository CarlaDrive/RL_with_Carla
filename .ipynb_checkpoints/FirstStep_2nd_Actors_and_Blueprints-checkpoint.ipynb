{
 "cells": [
  {
   "cell_type": "markdown",
   "metadata": {},
   "source": [
    "## 2nd. Actors and Blueprints\n",
    "Actors not ony include vehicles and walkers, but also sensors, traffic signs, traffic lights, and the spectator."
   ]
  },
  {
   "cell_type": "markdown",
   "metadata": {},
   "source": [
    "# Blueprints"
   ]
  },
  {
   "cell_type": "code",
   "execution_count": 1,
   "metadata": {},
   "outputs": [
    {
     "name": "stdout",
     "output_type": "stream",
     "text": [
      "3.7.4 (default, Dec  8 2020, 11:37:07) \n",
      "[GCC 7.5.0]\n"
     ]
    }
   ],
   "source": [
    "import sys\n",
    "print(sys.version)\n",
    "import carla"
   ]
  },
  {
   "cell_type": "code",
   "execution_count": 2,
   "metadata": {},
   "outputs": [],
   "source": [
    "client = carla.Client('localhost',2000)\n",
    "client.set_timeout(10.0) # seconds\n",
    "world = client.get_world()"
   ]
  },
  {
   "cell_type": "markdown",
   "metadata": {},
   "source": [
    "**Managing the blueprint library**\n",
    " : The carla.BlueprintLibray class contains a list of carla.ActorBlueprint elements. It is the world object who can provide access to it."
   ]
  },
  {
   "cell_type": "code",
   "execution_count": 21,
   "metadata": {},
   "outputs": [
    {
     "name": "stdout",
     "output_type": "stream",
     "text": [
      "Spawned vehicle has 4 wheels\n"
     ]
    }
   ],
   "source": [
    "import random\n",
    "# Find a specific blueprint.\n",
    "# Blueprints has an ID to identify them and\n",
    "#  the actors spawned with it\n",
    "# The library can be read to find a certain ID\n",
    "blueprint_library = world.get_blueprint_library()\n",
    "collision_sensor_bp = blueprint_library.find('sensor.other.collision')\n",
    "\n",
    "# Choose a vehicle blueprint at random.\n",
    "vehicle_bp = random.choice(blueprint_library.filter('vehicle.*.*'))"
   ]
  },
  {
   "cell_type": "code",
   "execution_count": 23,
   "metadata": {},
   "outputs": [
    {
     "name": "stdout",
     "output_type": "stream",
     "text": [
      "Spawned vehicle has 4 wheels\n"
     ]
    }
   ],
   "source": [
    "# Check vehicle attribute\n",
    "number_of_wheels = int(vehicle_bp.get_attribute('number_of_wheels'))\n",
    "print('Spawned vehicle has {} wheels'.format(number_of_wheels))\n",
    "is_bike = [number_of_wheels == 2]\n",
    "if(is_bike):\n",
    "    vehicle_bp.set_attribute('color', '255,0,0')\n",
    "else:\n",
    "    vehicle_bp.set_attribute('color', '255,255,255')"
   ]
  },
  {
   "cell_type": "code",
   "execution_count": 24,
   "metadata": {},
   "outputs": [],
   "source": [
    "for attr in vehicle_bp:\n",
    "    if attr.is_modifiable:\n",
    "        vehicle_bp.set_attribute(attr.id, random.choice(attr.recommended_values))"
   ]
  },
  {
   "cell_type": "markdown",
   "metadata": {},
   "source": [
    "## Actor life cycle\n",
    "**Spawing**\n",
    " : The world object is responsible of spawning actors and keeping track of these. CARLA uses the Unreal Engine coordinate system. carla.Rotation constructor is defined as (pitch, yaw, roll), that differs from Unreal Engine Editor (roll, pitch, yaw)"
   ]
  },
  {
   "cell_type": "code",
   "execution_count": 7,
   "metadata": {},
   "outputs": [],
   "source": [
    "transform = carla.Transform(carla.Location(x=230, y=195, z=40), carla.Rotation(yaw=180))\n",
    "actor = world.spawn_actor(vehicle_bp, transform)"
   ]
  },
  {
   "cell_type": "code",
   "execution_count": 31,
   "metadata": {},
   "outputs": [
    {
     "ename": "AttributeError",
     "evalue": "'list' object has no attribute 'location'",
     "output_type": "error",
     "traceback": [
      "\u001b[0;31m---------------------------------------------------------------------------\u001b[0m",
      "\u001b[0;31mAttributeError\u001b[0m                            Traceback (most recent call last)",
      "\u001b[0;32m<ipython-input-31-01138b2bbe61>\u001b[0m in \u001b[0;36m<module>\u001b[0;34m\u001b[0m\n\u001b[1;32m      2\u001b[0m \u001b[0;31m# : for vehicles, returns a list of recommended spawning points\u001b[0m\u001b[0;34m\u001b[0m\u001b[0;34m\u001b[0m\u001b[0;34m\u001b[0m\u001b[0m\n\u001b[1;32m      3\u001b[0m \u001b[0mspawn_points\u001b[0m \u001b[0;34m=\u001b[0m \u001b[0mworld\u001b[0m\u001b[0;34m.\u001b[0m\u001b[0mget_map\u001b[0m\u001b[0;34m(\u001b[0m\u001b[0;34m)\u001b[0m\u001b[0;34m.\u001b[0m\u001b[0mget_spawn_points\u001b[0m\u001b[0;34m(\u001b[0m\u001b[0;34m)\u001b[0m\u001b[0;34m\u001b[0m\u001b[0;34m\u001b[0m\u001b[0m\n\u001b[0;32m----> 4\u001b[0;31m \u001b[0mprint\u001b[0m\u001b[0;34m(\u001b[0m\u001b[0mspawn_points\u001b[0m\u001b[0;34m.\u001b[0m\u001b[0mlocation\u001b[0m\u001b[0;34m)\u001b[0m\u001b[0;34m\u001b[0m\u001b[0;34m\u001b[0m\u001b[0m\n\u001b[0m",
      "\u001b[0;31mAttributeError\u001b[0m: 'list' object has no attribute 'location'"
     ]
    }
   ],
   "source": [
    "# map.get_spawn_points()\n",
    "# : for vehicles, returns a list of recommended spawning points\n",
    "spawn_points = world.get_map().get_spawn_points()"
   ]
  },
  {
   "cell_type": "code",
   "execution_count": 33,
   "metadata": {},
   "outputs": [
    {
     "name": "stdout",
     "output_type": "stream",
     "text": [
      "Location(x=144.018509, y=205.113708, z=0.166550)\n"
     ]
    }
   ],
   "source": [
    "# world.get_random_location()\n",
    "# : for walkers, returns a random point on a sidewalk.\n",
    "# : this same method is used to set a goal location for walkers\n",
    "spawn_point = carla.Transform()\n",
    "spawn_point.location = world.get_random_location_from_navigation()\n",
    "print(spawn_point.location)"
   ]
  },
  {
   "cell_type": "code",
   "execution_count": 36,
   "metadata": {},
   "outputs": [
    {
     "ename": "ArgumentError",
     "evalue": "Python argument types in\n    ActorList.find(ActorList, builtin_function_or_method)\ndid not match C++ signature:\n    find(carla::client::ActorList {lvalue}, unsigned int id)",
     "output_type": "error",
     "traceback": [
      "\u001b[0;31m---------------------------------------------------------------------------\u001b[0m",
      "\u001b[0;31mArgumentError\u001b[0m                             Traceback (most recent call last)",
      "\u001b[0;32m<ipython-input-36-9716193aa918>\u001b[0m in \u001b[0;36m<module>\u001b[0;34m\u001b[0m\n\u001b[1;32m      1\u001b[0m \u001b[0mactor_list\u001b[0m \u001b[0;34m=\u001b[0m \u001b[0mworld\u001b[0m\u001b[0;34m.\u001b[0m\u001b[0mget_actors\u001b[0m\u001b[0;34m(\u001b[0m\u001b[0;34m)\u001b[0m\u001b[0;34m\u001b[0m\u001b[0;34m\u001b[0m\u001b[0m\n\u001b[1;32m      2\u001b[0m \u001b[0;31m# Find an actor by id.\u001b[0m\u001b[0;34m\u001b[0m\u001b[0;34m\u001b[0m\u001b[0;34m\u001b[0m\u001b[0m\n\u001b[0;32m----> 3\u001b[0;31m \u001b[0mactor\u001b[0m \u001b[0;34m=\u001b[0m \u001b[0mactor_list\u001b[0m\u001b[0;34m.\u001b[0m\u001b[0mfind\u001b[0m\u001b[0;34m(\u001b[0m\u001b[0mid\u001b[0m\u001b[0;34m)\u001b[0m\u001b[0;34m\u001b[0m\u001b[0;34m\u001b[0m\u001b[0m\n\u001b[0m\u001b[1;32m      4\u001b[0m \u001b[0;31m# Print the location of all the speed limit signs in the world.\u001b[0m\u001b[0;34m\u001b[0m\u001b[0;34m\u001b[0m\u001b[0;34m\u001b[0m\u001b[0m\n\u001b[1;32m      5\u001b[0m \u001b[0;32mfor\u001b[0m \u001b[0mspeed_sign\u001b[0m \u001b[0;32min\u001b[0m \u001b[0mactor_list\u001b[0m\u001b[0;34m.\u001b[0m\u001b[0mfilter\u001b[0m\u001b[0;34m(\u001b[0m\u001b[0;34m'traffic.speed_limit.*'\u001b[0m\u001b[0;34m)\u001b[0m\u001b[0;34m:\u001b[0m\u001b[0;34m\u001b[0m\u001b[0;34m\u001b[0m\u001b[0m\n",
      "\u001b[0;31mArgumentError\u001b[0m: Python argument types in\n    ActorList.find(ActorList, builtin_function_or_method)\ndid not match C++ signature:\n    find(carla::client::ActorList {lvalue}, unsigned int id)"
     ]
    }
   ],
   "source": [
    "actor_list = world.get_actors()\n",
    "# Find an actor by id. --> where is id defined at ?\n",
    "actor = actor_list.find(id)\n",
    "# Print the location of all the speed limit signs in the world.\n",
    "for speed_sign in actor_list.filter('traffic.speed_limit.*'):\n",
    "    print(speed_sign.get_location())"
   ]
  },
  {
   "cell_type": "markdown",
   "metadata": {},
   "source": [
    "**Handling**\n",
    " : carla.Actor mostly constists of get() and set() methods to manage the actors around the map"
   ]
  },
  {
   "cell_type": "code",
   "execution_count": 43,
   "metadata": {},
   "outputs": [
    {
     "name": "stdout",
     "output_type": "stream",
     "text": [
      "Vector3D(x=-0.006779, y=-0.000152, z=0.036554)\n",
      "Vector3D(x=0.713717, y=0.015046, z=0.000321)\n"
     ]
    }
   ],
   "source": [
    "# show actor's acc. and velocity\n",
    "# and immediately pick it up\n",
    "print(actor.get_acceleration())\n",
    "print(actor.get_velocity())\n",
    "\n",
    "location = actor.get_location()\n",
    "location.z += 10.0\n",
    "actor.set_location(location)"
   ]
  },
  {
   "cell_type": "code",
   "execution_count": 44,
   "metadata": {},
   "outputs": [],
   "source": [
    "# The actor's physics can be disabled to freeze it in place\n",
    "actor.set_simulate_physics(False)"
   ]
  },
  {
   "cell_type": "markdown",
   "metadata": {},
   "source": [
    "## Types of actors\n",
    "**Sensors**\n",
    "Sensors are actors that produce a stream of data. They have their own section\n",
    "(**Refer to 4th. Sensors and data**)"
   ]
  },
  {
   "cell_type": "code",
   "execution_count": 51,
   "metadata": {},
   "outputs": [],
   "source": [
    "camera_bp = blueprint_library.find('sensor.camera.rgb')\n",
    "relative_transform = carla.Transform(carla.Location(x=10, y=0, z=5),\n",
    "                                     carla.Rotation(yaw=180))\n",
    "camera = world.spawn_actor(camera_bp,\n",
    "                           relative_transform,\n",
    "                           attach_to=actor)\n",
    "camera.listen(lambda image:\n",
    "              image.save_to_disk('output/%06d.png' % image.frame))\n",
    "# and must destroy camera blueprint\n",
    "# that bp continues to take some pictures."
   ]
  },
  {
   "cell_type": "code",
   "execution_count": 52,
   "metadata": {},
   "outputs": [
    {
     "data": {
      "text/plain": [
       "False"
      ]
     },
     "execution_count": 52,
     "metadata": {},
     "output_type": "execute_result"
    }
   ],
   "source": [
    "camera.destroy()"
   ]
  },
  {
   "cell_type": "code",
   "execution_count": null,
   "metadata": {},
   "outputs": [],
   "source": [
    "# attaches a camera rigidly to a vehicle, so their relative position remains fixed\n",
    "camera_bp = blueprint_library.find('sensor.camera.rgb')\n",
    "relative_transform = carla.Transform(carla.Location(x=10, y=0, z=5),\n",
    "                                     carla.Rotation(yaw=180))\n",
    "camera = world.spawn_actor(camera_bp,\n",
    "                           relative_transform,\n",
    "                           attach_to=my_vehicle,\n",
    "                           carla.AttachmentType.Rigid)"
   ]
  },
  {
   "cell_type": "markdown",
   "metadata": {},
   "source": [
    "**Spectator**\n",
    " : Placed by Unreal Engine to provide an in-game point of view. It can be used to move the view of the simulator window."
   ]
  },
  {
   "cell_type": "code",
   "execution_count": 55,
   "metadata": {},
   "outputs": [],
   "source": [
    "spectator = world.get_spectator()\n",
    "transform = actor.get_transform()\n",
    "spectator.set_transform(carla.Transform(transform.location +\n",
    "                                        carla.Location(z=5),\n",
    "                                        carla.Rotation(pitch=-90)))"
   ]
  },
  {
   "cell_type": "markdown",
   "metadata": {},
   "source": [
    "**Traffic signs and traffic lights**\n",
    " : Only stops, yields and traffic lights are considered actors in CARLA so far. The rest of the OpenDRIVE signs are accessible from the API as carla.Landmark -> go to (**3rd. Maps and navigation**)"
   ]
  },
  {
   "cell_type": "markdown",
   "metadata": {},
   "source": [
    "**Vehicles**\n",
    " : carla.Vehicle are a special type of actor. This is achieved applying 4 types of different controls."
   ]
  },
  {
   "cell_type": "code",
   "execution_count": 66,
   "metadata": {},
   "outputs": [],
   "source": [
    "# Release simulate physics\n",
    "# actor.set_simulate_physics(False)\n",
    "actor.set_simulate_physics(True)\n",
    "actor.apply_control(carla.VehicleControl(throttle=1.0, steer=-1.0))"
   ]
  },
  {
   "cell_type": "code",
   "execution_count": 60,
   "metadata": {},
   "outputs": [],
   "source": [
    "# carla.VehiclePhysicsControl defines\n",
    "#  physical attributes of the vehicle.\n",
    "# Besides many different attribute, this controller contains\n",
    "#  two more controllers. carla.GearPhysicsControl for the gears.\n",
    "# The other is a list of carla.WheelPhysicsControl,\n",
    "#  that provide specific control over the different wheels. \n",
    "actor.apply_physics_control(\n",
    "    carla.VehiclePhysicsControl(\n",
    "        max_rpm = 5000.0,\n",
    "        center_of_mass = carla.Vector3D(0.0, 0.0, 0.0),\n",
    "        torque_curve=[[0,400],[5000,400]]))"
   ]
  },
  {
   "cell_type": "code",
   "execution_count": 64,
   "metadata": {},
   "outputs": [],
   "source": [
    "# The autopilot mode will subscribe them to the Traffic manager,\n",
    "#  and simulate real urban conditions. This module is hard-coded,\n",
    "#  not based on machine learning. \n",
    "actor.set_simulate_physics(True)\n",
    "actor.set_autopilot(True)"
   ]
  },
  {
   "cell_type": "markdown",
   "metadata": {},
   "source": [
    "**Bounding Box**\n",
    " : In order to apply physics and detect collisions, vehicles have a carla.BoundingBox encapsulating them. "
   ]
  },
  {
   "cell_type": "code",
   "execution_count": 69,
   "metadata": {},
   "outputs": [
    {
     "name": "stdout",
     "output_type": "stream",
     "text": [
      "Location(x=-0.000000, y=-0.003242, z=1.233721)\n",
      "Vector3D(x=2.601919, y=1.307286, z=1.233722)\n"
     ]
    }
   ],
   "source": [
    "box = actor.bounding_box\n",
    "print(box.location)         # Location relative to the vehicle.\n",
    "print(box.extent)           # XYZ half-box extents in meters."
   ]
  },
  {
   "cell_type": "markdown",
   "metadata": {},
   "source": [
    "**Walkers**\n",
    " : I didnt check below lines"
   ]
  },
  {
   "cell_type": "code",
   "execution_count": 73,
   "metadata": {},
   "outputs": [
    {
     "data": {
      "text/plain": [
       "<carla.libcarla.WalkerAIController at 0x7eff5419a7b0>"
      ]
     },
     "execution_count": 73,
     "metadata": {},
     "output_type": "execute_result"
    }
   ],
   "source": [
    "walker_controller_bp = world.get_blueprint_library().find('controller.ai.walker')\n",
    "world.spawn_actor(walker_controller_bp, carla.Transform())"
   ]
  },
  {
   "cell_type": "code",
   "execution_count": 74,
   "metadata": {},
   "outputs": [
    {
     "ename": "NameError",
     "evalue": "name 'ai_controller' is not defined",
     "output_type": "error",
     "traceback": [
      "\u001b[0;31m---------------------------------------------------------------------------\u001b[0m",
      "\u001b[0;31mNameError\u001b[0m                                 Traceback (most recent call last)",
      "\u001b[0;32m<ipython-input-74-95e20cddd707>\u001b[0m in \u001b[0;36m<module>\u001b[0;34m\u001b[0m\n\u001b[0;32m----> 1\u001b[0;31m \u001b[0mai_controller\u001b[0m\u001b[0;34m.\u001b[0m\u001b[0mstart\u001b[0m\u001b[0;34m(\u001b[0m\u001b[0;34m)\u001b[0m\u001b[0;34m\u001b[0m\u001b[0;34m\u001b[0m\u001b[0m\n\u001b[0m\u001b[1;32m      2\u001b[0m \u001b[0mai_controller\u001b[0m\u001b[0;34m.\u001b[0m\u001b[0mgo_to_location\u001b[0m\u001b[0;34m(\u001b[0m\u001b[0mworld\u001b[0m\u001b[0;34m.\u001b[0m\u001b[0mget_random_location_from_navigation\u001b[0m\u001b[0;34m(\u001b[0m\u001b[0;34m)\u001b[0m\u001b[0;34m)\u001b[0m\u001b[0;34m\u001b[0m\u001b[0;34m\u001b[0m\u001b[0m\n\u001b[1;32m      3\u001b[0m \u001b[0mai_controller\u001b[0m\u001b[0;34m.\u001b[0m\u001b[0mset_max_speed\u001b[0m\u001b[0;34m(\u001b[0m\u001b[0;36m1\u001b[0m \u001b[0;34m+\u001b[0m \u001b[0mrandom\u001b[0m\u001b[0;34m.\u001b[0m\u001b[0mrandom\u001b[0m\u001b[0;34m(\u001b[0m\u001b[0;34m)\u001b[0m\u001b[0;34m)\u001b[0m  \u001b[0;31m# Between 1 and 2 m/s (default is 1.4 m/s).\u001b[0m\u001b[0;34m\u001b[0m\u001b[0;34m\u001b[0m\u001b[0m\n",
      "\u001b[0;31mNameError\u001b[0m: name 'ai_controller' is not defined"
     ]
    }
   ],
   "source": [
    "ai_controller.start()\n",
    "ai_controller.go_to_location(world.get_random_location_from_navigation())\n",
    "ai_controller.set_max_speed(1 + random.random())  # Between 1 and 2 m/s (default is 1.4 m/s)."
   ]
  },
  {
   "cell_type": "code",
   "execution_count": 75,
   "metadata": {},
   "outputs": [
    {
     "ename": "NameError",
     "evalue": "name 'ai_controller' is not defined",
     "output_type": "error",
     "traceback": [
      "\u001b[0;31m---------------------------------------------------------------------------\u001b[0m",
      "\u001b[0;31mNameError\u001b[0m                                 Traceback (most recent call last)",
      "\u001b[0;32m<ipython-input-75-649fd52beee3>\u001b[0m in \u001b[0;36m<module>\u001b[0;34m\u001b[0m\n\u001b[0;32m----> 1\u001b[0;31m \u001b[0mai_controller\u001b[0m\u001b[0;34m.\u001b[0m\u001b[0mstop\u001b[0m\u001b[0;34m(\u001b[0m\u001b[0;34m)\u001b[0m\u001b[0;34m\u001b[0m\u001b[0;34m\u001b[0m\u001b[0m\n\u001b[0m",
      "\u001b[0;31mNameError\u001b[0m: name 'ai_controller' is not defined"
     ]
    }
   ],
   "source": [
    "ai_controller.stop()"
   ]
  },
  {
   "cell_type": "code",
   "execution_count": null,
   "metadata": {},
   "outputs": [],
   "source": []
  }
 ],
 "metadata": {
  "kernelspec": {
   "display_name": "Python 3",
   "language": "python",
   "name": "python3"
  },
  "language_info": {
   "codemirror_mode": {
    "name": "ipython",
    "version": 3
   },
   "file_extension": ".py",
   "mimetype": "text/x-python",
   "name": "python",
   "nbconvert_exporter": "python",
   "pygments_lexer": "ipython3",
   "version": "3.7.4"
  }
 },
 "nbformat": 4,
 "nbformat_minor": 4
}
